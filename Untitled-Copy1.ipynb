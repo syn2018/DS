{
 "cells": [
  {
   "cell_type": "code",
   "execution_count": 1,
   "metadata": {
    "collapsed": false
   },
   "outputs": [
    {
     "name": "stderr",
     "output_type": "stream",
     "text": [
      "Bioconductor version 3.3 (BiocInstaller 1.22.3), ?biocLite for help\n",
      "A newer version of Bioconductor is available for this version of R,\n",
      "  ?BiocUpgrade for help\n"
     ]
    }
   ],
   "source": [
    " source(\"http://bioconductor.org/biocLite.R\") # Sources the biocLite.R installation script. "
   ]
  },
  {
   "cell_type": "code",
   "execution_count": 2,
   "metadata": {
    "collapsed": false
   },
   "outputs": [
    {
     "name": "stderr",
     "output_type": "stream",
     "text": [
      "BioC_mirror: https://bioconductor.org\n",
      "Using Bioconductor 3.3 (BiocInstaller 1.22.3), R 3.3.1 (2016-06-21).\n",
      "Installing package(s) ‘ChemmineR’\n",
      "Warning message in install.packages(pkgs = doing, lib = lib, ...):\n",
      "“installation of package ‘ChemmineR’ had non-zero exit status”Old packages: 'bio3d', 'curl', 'colorspace', 'openssl', 'R6', 'reshape2',\n",
      "  'stringi', 'base64enc', 'crayon', 'digest', 'evaluate', 'jsonlite',\n",
      "  'memoise', 'pbdZMQ', 'R6', 'stringi', 'stringr', 'cluster', 'codetools'\n"
     ]
    }
   ],
   "source": [
    " biocLite(\"ChemmineR\") # Installs the package. "
   ]
  },
  {
   "cell_type": "code",
   "execution_count": 3,
   "metadata": {
    "collapsed": false
   },
   "outputs": [
    {
     "ename": "ERROR",
     "evalue": "Error in library(\"ChemmineR\"): there is no package called ‘ChemmineR’\n",
     "output_type": "error",
     "traceback": [
      "Error in library(\"ChemmineR\"): there is no package called ‘ChemmineR’\nTraceback:\n",
      "1. library(\"ChemmineR\")",
      "2. stop(txt, domain = NA)"
     ]
    }
   ],
   "source": [
    " library(\"ChemmineR\") # Loads the package"
   ]
  },
  {
   "cell_type": "code",
   "execution_count": null,
   "metadata": {
    "collapsed": true
   },
   "outputs": [],
   "source": [
    " vignette(\"ChemmineR\") # Opens this PDF manual from R "
   ]
  },
  {
   "cell_type": "code",
   "execution_count": 4,
   "metadata": {
    "collapsed": false
   },
   "outputs": [
    {
     "name": "stderr",
     "output_type": "stream",
     "text": [
      "Warning message in data(sdfsample):\n",
      "“data set ‘sdfsample’ not found”"
     ]
    }
   ],
   "source": [
    " data(sdfsample) "
   ]
  },
  {
   "cell_type": "code",
   "execution_count": 5,
   "metadata": {
    "collapsed": false
   },
   "outputs": [
    {
     "name": "stderr",
     "output_type": "stream",
     "text": [
      "Installing package into ‘/home/noh/R/x86_64-pc-linux-gnu-library/3.3’\n",
      "(as ‘lib’ is unspecified)\n"
     ]
    }
   ],
   "source": [
    "install.packages(\"gridExtra\")"
   ]
  },
  {
   "cell_type": "code",
   "execution_count": 6,
   "metadata": {
    "collapsed": false
   },
   "outputs": [
    {
     "ename": "ERROR",
     "evalue": "Error in library(\"ChemmineR\"): there is no package called ‘ChemmineR’\n",
     "output_type": "error",
     "traceback": [
      "Error in library(\"ChemmineR\"): there is no package called ‘ChemmineR’\nTraceback:\n",
      "1. library(\"ChemmineR\")",
      "2. stop(txt, domain = NA)"
     ]
    }
   ],
   "source": [
    " library(\"ChemmineR\") # Loads the package"
   ]
  },
  {
   "cell_type": "code",
   "execution_count": 7,
   "metadata": {
    "collapsed": false
   },
   "outputs": [
    {
     "name": "stderr",
     "output_type": "stream",
     "text": [
      "BioC_mirror: https://bioconductor.org\n",
      "Using Bioconductor 3.3 (BiocInstaller 1.22.3), R 3.3.1 (2016-06-21).\n",
      "Installing package(s) ‘ChemmineR’\n",
      "Old packages: 'bio3d', 'curl', 'colorspace', 'openssl', 'R6', 'reshape2',\n",
      "  'stringi', 'base64enc', 'crayon', 'digest', 'evaluate', 'jsonlite',\n",
      "  'memoise', 'pbdZMQ', 'R6', 'stringi', 'stringr', 'cluster', 'codetools'\n"
     ]
    }
   ],
   "source": [
    " biocLite(\"ChemmineR\") # Installs the package. "
   ]
  },
  {
   "cell_type": "code",
   "execution_count": 8,
   "metadata": {
    "collapsed": false
   },
   "outputs": [
    {
     "data": {},
     "metadata": {},
     "output_type": "display_data"
    }
   ],
   "source": [
    " library(help=\"ChemmineR\") # Lists all functions and classes "
   ]
  },
  {
   "cell_type": "code",
   "execution_count": 9,
   "metadata": {
    "collapsed": true
   },
   "outputs": [],
   "source": [
    " library(\"ChemmineR\") # Loads the package"
   ]
  },
  {
   "cell_type": "code",
   "execution_count": 10,
   "metadata": {
    "collapsed": true
   },
   "outputs": [],
   "source": [
    " data(sdfsample) "
   ]
  },
  {
   "cell_type": "code",
   "execution_count": 11,
   "metadata": {
    "collapsed": true
   },
   "outputs": [],
   "source": [
    " sdfset <- sdfsample"
   ]
  },
  {
   "cell_type": "code",
   "execution_count": 12,
   "metadata": {
    "collapsed": false
   },
   "outputs": [
    {
     "data": {
      "text/plain": [
       "An instance of \"SDFset\" with 100 molecules"
      ]
     },
     "metadata": {},
     "output_type": "display_data"
    }
   ],
   "source": [
    "sdfset"
   ]
  },
  {
   "cell_type": "code",
   "execution_count": 13,
   "metadata": {
    "collapsed": false
   },
   "outputs": [
    {
     "data": {
      "text/plain": [
       "An instance of \"SDF\"\n",
       "\n",
       "<<header>>\n",
       "                            Molecule_Name \n",
       "                                 \"650001\" \n",
       "                                   Source \n",
       "                 \"  -OEChem-07071010512D\" \n",
       "                                  Comment \n",
       "                                       \"\" \n",
       "                              Counts_Line \n",
       "\" 61 64  0     0  0  0  0  0  0999 V2000\" \n",
       "\n",
       "<<atomblock>>\n",
       "          C1      C2  C3  C5  C6  C7  C8  C9 C10 C11 C12 C13 C14 C15 C16\n",
       "O_1   7.0468  0.0839   0   0   0   0   0   0   0   0   0   0   0   0   0\n",
       "O_2  12.2708  1.0492   0   0   0   0   0   0   0   0   0   0   0   0   0\n",
       "...      ...     ... ... ... ... ... ... ... ... ... ... ... ... ... ...\n",
       "H_60  1.8411 -1.5985   0   0   0   0   0   0   0   0   0   0   0   0   0\n",
       "H_61  2.6597 -1.2843   0   0   0   0   0   0   0   0   0   0   0   0   0\n",
       "\n",
       "<<bondblock>>\n",
       "     C1  C2  C3  C4  C5  C6  C7\n",
       "1     1  16   2   0   0   0   0\n",
       "2     2  23   1   0   0   0   0\n",
       "... ... ... ... ... ... ... ...\n",
       "63   33  60   1   0   0   0   0\n",
       "64   33  61   1   0   0   0   0\n",
       "\n",
       "<<datablock>> (33 data items)\n",
       "          PUBCHEM_COMPOUND_CID PUBCHEM_COMPOUND_CANONICALIZED \n",
       "                      \"650001\"                            \"1\" \n",
       "     PUBCHEM_CACTVS_COMPLEXITY  PUBCHEM_CACTVS_HBOND_ACCEPTOR \n",
       "                         \"700\"                            \"7\" \n",
       "                               \n",
       "                         \"...\" "
      ]
     },
     "metadata": {},
     "output_type": "display_data"
    }
   ],
   "source": [
    "sdfset[[1]] # Returns summarized content of one SDF"
   ]
  },
  {
   "cell_type": "code",
   "execution_count": null,
   "metadata": {
    "collapsed": true
   },
   "outputs": [],
   "source": []
  }
 ],
 "metadata": {
  "kernelspec": {
   "display_name": "R",
   "language": "R",
   "name": "ir"
  },
  "language_info": {
   "codemirror_mode": "r",
   "file_extension": ".r",
   "mimetype": "text/x-r-source",
   "name": "R",
   "pygments_lexer": "r",
   "version": "3.3.1"
  }
 },
 "nbformat": 4,
 "nbformat_minor": 1
}
